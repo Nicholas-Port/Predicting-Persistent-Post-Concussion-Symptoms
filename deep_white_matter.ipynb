{
 "cells": [
  {
   "cell_type": "code",
   "execution_count": 1,
   "metadata": {},
   "outputs": [
    {
     "name": "stdout",
     "output_type": "stream",
     "text": [
      "number of metadata 946\n"
     ]
    }
   ],
   "source": [
    "#load metadata for all (secondary) outputs available for this project\n",
    "import os\n",
    "import json\n",
    "objs = []\n",
    "for entry in os.scandir(\"input/meta\"):\n",
    "    with open(entry.path, \"r\") as f:\n",
    "        obj = json.loads(f.read())\n",
    "\n",
    "    if obj[\"removed\"] != True:\n",
    "        objs.append(obj)\n",
    "\n",
    "print(\"number of metadata\", len(objs))\n",
    "\n",
    "#load participants columns/info (for phenotype - if you have it defined for your project)\n",
    "with open(\"input/participants.json\") as f:\n",
    "    participants = json.load(f)\n",
    "    \n",
    "with open(\"input/participants_column.json\") as f:\n",
    "    participants_column = json.load(f)"
   ]
  },
  {
   "cell_type": "code",
   "execution_count": 2,
   "metadata": {},
   "outputs": [],
   "source": [
    "# EDIT ME\n",
    "# Now you need to pick and choose which objects # you want to load \n",
    "# into this notebook to perform your data analysis.\n",
    "#\n",
    "# Itereate through the objs list from above step and pick the objects you need.\n",
    "# The actual file path for each object is stored in obj[\"_secondaryPath\"]\n",
    "\n",
    "# import any library you need to load data (for csv, pandas works nicely)\n",
    "import pandas\n",
    "import numpy as np\n",
    "# you probably need to create multiple lists to load various things\n",
    "myCSVs = {}\n",
    "sub_list = []\n",
    "for obj in objs:\n",
    "    #put whatever the condition you'd like to use\n",
    "    #if you don't know which field/keys to use, just\n",
    "    #open up one of the .json under input/meta directory\n",
    "    #and see what key/values exists\n",
    "    if obj[\"datatype\"][\"name\"] == \"neuro/parc-stats\":\n",
    "        if obj[\"tags\"] != [\"aparc.a2009s\"]:\n",
    "            subject = obj[\"meta\"][\"subject\"]\n",
    "            csvPath = \"input/\"+obj[\"_secondaryPath\"]+\"/parc-stats/parc_nodes.csv\"\n",
    "            myCSVs[subject] = pandas.read_csv(csvPath)\n",
    "            sub_list.append(subject)"
   ]
  },
  {
   "cell_type": "code",
   "execution_count": 3,
   "metadata": {},
   "outputs": [],
   "source": [
    "import pandas as pd\n",
    "rtp = pd.read_csv(\"rtp_acute_cases.csv\",index_col=0)"
   ]
  },
  {
   "cell_type": "code",
   "execution_count": 4,
   "metadata": {},
   "outputs": [],
   "source": [
    "metrics = ['fa','md','isovf','ndi','odi']\n",
    "left_wm_means = np.zeros((len(sub_list), len(metrics)))\n",
    "right_wm_means = np.zeros((len(sub_list), len(metrics)))"
   ]
  },
  {
   "cell_type": "code",
   "execution_count": 5,
   "metadata": {},
   "outputs": [],
   "source": [
    "for s, sub in enumerate(sub_list):\n",
    "    df = myCSVs[sub]\n",
    "    L = df.query('structureID == \"Left-Cerebral-White-Matter\"')[metrics]\n",
    "    R = df.query('structureID == \"Right-Cerebral-White-Matter\"')[metrics]\n",
    "    left_wm_means[s,:] = L.iloc[0]\n",
    "    right_wm_means[s,:] = R.iloc[0]"
   ]
  },
  {
   "cell_type": "code",
   "execution_count": 6,
   "metadata": {},
   "outputs": [
    {
     "name": "stdout",
     "output_type": "stream",
     "text": [
      "Collecting scipy==1.7.0\n",
      "  Downloading scipy-1.7.0-cp37-cp37m-manylinux_2_5_x86_64.manylinux1_x86_64.whl (28.5 MB)\n",
      "\u001b[K     |████████████████████████████████| 28.5 MB 6.4 MB/s eta 0:00:01\n",
      "\u001b[?25hRequirement already satisfied: numpy<1.23.0,>=1.16.5 in /opt/conda/lib/python3.7/site-packages (from scipy==1.7.0) (1.18.4)\n",
      "Installing collected packages: scipy\n",
      "  Attempting uninstall: scipy\n",
      "    Found existing installation: scipy 1.4.1\n",
      "    Uninstalling scipy-1.4.1:\n",
      "      Successfully uninstalled scipy-1.4.1\n",
      "Successfully installed scipy-1.7.0\n"
     ]
    }
   ],
   "source": [
    "!pip install scipy==1.7.0"
   ]
  },
  {
   "cell_type": "code",
   "execution_count": 7,
   "metadata": {},
   "outputs": [],
   "source": [
    "import matplotlib.pyplot as plt\n",
    "import scipy.stats\n",
    "\n",
    "rtp_days = []\n",
    "for s, sub in enumerate(sub_list):\n",
    "    if np.isnan(rtp.loc[int(sub),\"TIME_TORTP_DAYS\"]) == False:\n",
    "        rtp_days.append(rtp.loc[int(sub),\"TIME_TORTP_DAYS\"])\n",
    "\n",
    "left_wm_means_fa_early = []\n",
    "right_wm_means_fa_early = []\n",
    "left_wm_means_fa_late = []\n",
    "right_wm_means_fa_late = []\n",
    "\n",
    "for s, sub in enumerate(sub_list):\n",
    "    if rtp.loc[int(sub), 'rtpLabel'] == 0:\n",
    "        left_wm_means_fa_early.append(left_wm_means[s,0])\n",
    "        right_wm_means_fa_early.append(right_wm_means[s,0])\n",
    "    elif rtp.loc[int(sub), 'rtpLabel'] == 1:\n",
    "        left_wm_means_fa_late.append(left_wm_means[s,0])\n",
    "        right_wm_means_fa_late.append(right_wm_means[s,0])\n",
    "\n",
    "#merge left and right\n",
    "wm_means = np.vstack((left_wm_means, right_wm_means))\n",
    "wm_means_fa_early = np.hstack((left_wm_means_fa_early, right_wm_means_fa_early))\n",
    "wm_means_fa_late = np.hstack((left_wm_means_fa_late, right_wm_means_fa_late))\n",
    "        \n",
    "#retrive groups\n",
    "groups = []\n",
    "for s, sub in enumerate(sub_list):\n",
    "    if rtp.loc[int(sub), 'rtpLabel'] == 0:\n",
    "        groups.append(\"early\")\n",
    "    elif rtp.loc[int(sub), 'rtpLabel'] == 1:\n",
    "        groups.append(\"late\")    \n",
    "        \n",
    "means_fa = []\n",
    "means_md = []\n",
    "for s, sub in enumerate(sub_list):\n",
    "    if np.isnan(rtp.loc[int(sub), 'rtpLabel']) == False:\n",
    "        means_fa.append(left_wm_means[s,0])  \n",
    "        means_md.append(left_wm_means[s,1])       \n",
    "for s, sub in enumerate(sub_list):\n",
    "    if np.isnan(rtp.loc[int(sub), 'rtpLabel']) == False:\n",
    "        means_fa.append(right_wm_means[s,0])  \n",
    "        means_md.append(right_wm_means[s,1]) "
   ]
  },
  {
   "cell_type": "code",
   "execution_count": 8,
   "metadata": {},
   "outputs": [
    {
     "name": "stdout",
     "output_type": "stream",
     "text": [
      "Collecting statannot\n",
      "  Downloading statannot-0.2.3-py3-none-any.whl (10 kB)\n",
      "Installing collected packages: statannot\n",
      "Successfully installed statannot-0.2.3\n"
     ]
    },
    {
     "name": "stderr",
     "output_type": "stream",
     "text": [
      "/opt/conda/lib/python3.7/site-packages/ipykernel_launcher.py:24: MatplotlibDeprecationWarning: Adding an axes using the same arguments as a previous axes currently reuses the earlier instance.  In a future version, a new instance will always be created and returned.  Meanwhile, this warning can be suppressed, and the future behavior ensured, by passing a unique label to each axes instance.\n",
      "/opt/conda/lib/python3.7/site-packages/ipykernel_launcher.py:33: MatplotlibDeprecationWarning: Adding an axes using the same arguments as a previous axes currently reuses the earlier instance.  In a future version, a new instance will always be created and returned.  Meanwhile, this warning can be suppressed, and the future behavior ensured, by passing a unique label to each axes instance.\n"
     ]
    },
    {
     "name": "stdout",
     "output_type": "stream",
     "text": [
      "r=-0.38, p=0.0001\n",
      "p-value annotation legend:\n",
      "ns: 5.00e-02 < p <= 1.00e+00\n",
      "*: 1.00e-02 < p <= 5.00e-02\n",
      "**: 1.00e-03 < p <= 1.00e-02\n",
      "***: 1.00e-04 < p <= 1.00e-03\n",
      "****: p <= 1.00e-04\n",
      "\n",
      "early v.s. late: t-test independent samples with Bonferroni correction, P_val=9.045e-05 stat=4.081e+00\n"
     ]
    },
    {
     "name": "stderr",
     "output_type": "stream",
     "text": [
      "/opt/conda/lib/python3.7/site-packages/ipykernel_launcher.py:24: MatplotlibDeprecationWarning: Adding an axes using the same arguments as a previous axes currently reuses the earlier instance.  In a future version, a new instance will always be created and returned.  Meanwhile, this warning can be suppressed, and the future behavior ensured, by passing a unique label to each axes instance.\n",
      "/opt/conda/lib/python3.7/site-packages/ipykernel_launcher.py:33: MatplotlibDeprecationWarning: Adding an axes using the same arguments as a previous axes currently reuses the earlier instance.  In a future version, a new instance will always be created and returned.  Meanwhile, this warning can be suppressed, and the future behavior ensured, by passing a unique label to each axes instance.\n"
     ]
    },
    {
     "name": "stdout",
     "output_type": "stream",
     "text": [
      "r=0.02, p=0.4352\n",
      "p-value annotation legend:\n",
      "ns: 5.00e-02 < p <= 1.00e+00\n",
      "*: 1.00e-02 < p <= 5.00e-02\n",
      "**: 1.00e-03 < p <= 1.00e-02\n",
      "***: 1.00e-04 < p <= 1.00e-03\n",
      "****: p <= 1.00e-04\n",
      "\n",
      "early v.s. late: t-test independent samples with Bonferroni correction, P_val=2.247e-01 stat=1.222e+00\n"
     ]
    },
    {
     "data": {
      "image/png": "[encoded data removed]",
      "text/plain": [
       "<Figure size 504x504 with 4 Axes>"
      ]
     },
     "metadata": {
      "needs_background": "light"
     },
     "output_type": "display_data"
    }
   ],
   "source": [
    "# plot FA and MD\n",
    "import seaborn as sns\n",
    "!pip install statannot\n",
    "from statannot import add_stat_annotation\n",
    "plt.rcParams['svg.fonttype'] = 'none'\n",
    "\n",
    "metrics = ['FA','MD']\n",
    "rtp_days_twice = np.hstack((rtp_days, rtp_days))\n",
    "group_twice = np.hstack((groups, groups))\n",
    "N = len(sub_list)\n",
    "\n",
    "fig=plt.figure(figsize=(7,7))\n",
    "\n",
    "#left+right    \n",
    "for m, metric in enumerate(metrics):\n",
    "    wm_means_tmp = []\n",
    "    ax=plt.subplot(len(metrics),2,2*m+1)\n",
    "    for s, sub in enumerate(sub_list):\n",
    "        if rtp.loc[int(sub), 'rtpLabel'] == 0:\n",
    "            plt.scatter(rtp.loc[int(sub),\"TIME_TORTP_DAYS\"],wm_means[s,m], color='#1f77b4', alpha=0.6)\n",
    "            wm_means_tmp.append(wm_means[s,m])\n",
    "        elif rtp.loc[int(sub), 'rtpLabel'] == 1:\n",
    "            if np.isnan(rtp.loc[int(sub),\"TIME_TORTP_DAYS\"]) == False:\n",
    "                plt.subplot(len(metrics),2,2*m+1)\n",
    "                plt.scatter(rtp.loc[int(sub),\"TIME_TORTP_DAYS\"],wm_means[s,m], color='#ff7f0e', alpha=0.6)\n",
    "                wm_means_tmp.append(wm_means[s,m])\n",
    "    for s, sub in enumerate(sub_list):\n",
    "        if rtp.loc[int(sub), 'rtpLabel'] == 0:\n",
    "            plt.scatter(rtp.loc[int(sub),\"TIME_TORTP_DAYS\"],wm_means[N+s,m], color='#1f77b4', alpha=0.6)\n",
    "            wm_means_tmp.append(wm_means[N+s,m])\n",
    "        elif rtp.loc[int(sub), 'rtpLabel'] == 1:\n",
    "            if np.isnan(rtp.loc[int(sub),\"TIME_TORTP_DAYS\"]) == False:\n",
    "                plt.subplot(len(metrics),2,2*m+1)\n",
    "                plt.scatter(rtp.loc[int(sub),\"TIME_TORTP_DAYS\"],wm_means[N+s,m], color='#ff7f0e', alpha=0.6)\n",
    "                wm_means_tmp.append(wm_means[N+s,m]) \n",
    "    if metric == 'FA':\n",
    "        sl, inter, r_val, p_val, std_err = scipy.stats.linregress(rtp_days_twice, wm_means_tmp, alternative='less')\n",
    "    elif metric == 'MD':\n",
    "        sl, inter, r_val, p_val, std_err = scipy.stats.linregress(rtp_days_twice, wm_means_tmp, alternative='greater')\n",
    "    print(\"r=%.02f, p=%.04f\" %(r_val,p_val)) \n",
    "    plt.plot(np.sort(rtp_days_twice), inter+sl*np.sort(rtp_days_twice), c='k', linestyle='-', linewidth=1)\n",
    "    plt.ylim([0.2,1])\n",
    "    plt.ylabel('%s' %metric)\n",
    "    plt.title(\"Deep White Matter\")\n",
    "    plt.xlabel('Retun To Play (days)')\n",
    "    fig.subplots_adjust(hspace=0.4)\n",
    "    fig.subplots_adjust(wspace=0.4)\n",
    "    \n",
    "    #removing top and right borders\n",
    "    ax.spines['top'].set_visible(False)\n",
    "    ax.spines['right'].set_visible(False)\n",
    "    ax.spines['bottom'].set_position((\"outward\", 10))\n",
    "    ax.spines['left'].set_position((\"outward\", 10))\n",
    "    if metric == 'FA':\n",
    "        plt.ylim([0.32,0.42])\n",
    "        plt.yticks([0.32,0.37,0.42])\n",
    "    elif metric == 'MD':\n",
    "        plt.ylim([0.8,1])\n",
    "        plt.yticks([0.8,0.9,1])\n",
    "    plt.xlim([10,90])\n",
    "    plt.xticks([0,28,90])\n",
    "    \n",
    "    #add text\n",
    "    ax.text(1, 0.12, \"r = %.2f\\np = %.4f\" %(r_val,p_val), ha=\"right\", va=\"top\", transform=ax.transAxes, fontsize=10)\n",
    "    \n",
    "    plt.subplot(len(metrics),2,2*m+2)\n",
    "    if metric == 'FA':\n",
    "        data = {'FA': means_fa, 'group': group_twice}\n",
    "        plt.ylim([0.32,0.42])\n",
    "        plt.yticks([0.32,0.37,0.42])\n",
    "    elif metric == 'MD':\n",
    "        data = {'MD': means_md, 'group': group_twice}\n",
    "        plt.ylim([0.8,1])\n",
    "        plt.yticks([0.8,0.9,1])\n",
    "    df = pd.DataFrame(data)\n",
    "    ax = sns.boxplot(data=df, x='group', y=metric, palette=['#1f77b4','#ff7f0e'], width=0.5, saturation=0.9)\n",
    "    add_stat_annotation(ax, data=df, x='group', y=metric, test='t-test_ind',\n",
    "                    box_pairs=[(\"early\", \"late\")], text_format='star', loc='inside', verbose=2)\n",
    "    plt.setp(ax.collections, alpha=0.8)\n",
    "    \n",
    "    #removing top and right borders\n",
    "    ax.spines['top'].set_visible(False)\n",
    "    ax.spines['right'].set_visible(False)\n",
    "    ax.spines['bottom'].set_position((\"outward\", 10))\n",
    "    ax.spines['left'].set_position((\"outward\", 10))\n",
    "\n",
    "fig.subplots_adjust(wspace=0.7)\n",
    "fig.subplots_adjust(hspace=0.7)\n",
    "plt.savefig('boxplot_fa_md_orange_poster_wm.svg', bbox_inches = \"tight\")\n",
    "plt.show()"
   ]
  },
  {
   "cell_type": "code",
   "execution_count": 9,
   "metadata": {},
   "outputs": [],
   "source": [
    "#Compute number of voxels in the white matter\n",
    "num_wm_voxels = np.zeros(len(sub_list))\n",
    "for s, sub in enumerate(sub_list):\n",
    "    df = myCSVs[sub]\n",
    "    L = df.query('structureID == \"Left-Cerebral-White-Matter\"')['number_of_voxels']\n",
    "    R = df.query('structureID == \"Right-Cerebral-White-Matter\"')['number_of_voxels']\n",
    "    num_wm_voxels[s]= L.item() + R.item()"
   ]
  },
  {
   "cell_type": "code",
   "execution_count": 10,
   "metadata": {},
   "outputs": [
    {
     "data": {
      "text/plain": [
       "(486613.0410958904, 48790.29342283137)"
      ]
     },
     "execution_count": 10,
     "metadata": {},
     "output_type": "execute_result"
    }
   ],
   "source": [
    "num_wm_voxels.mean(), num_wm_voxels.std()"
   ]
  }
 ],
 "metadata": {
  "kernelspec": {
   "display_name": "Python 3",
   "language": "python",
   "name": "python3"
  },
  "language_info": {
   "codemirror_mode": {
    "name": "ipython",
    "version": 3
   },
   "file_extension": ".py",
   "mimetype": "text/x-python",
   "name": "python",
   "nbconvert_exporter": "python",
   "pygments_lexer": "ipython3",
   "version": "3.7.10"
  }
 },
 "nbformat": 4,
 "nbformat_minor": 4
}
