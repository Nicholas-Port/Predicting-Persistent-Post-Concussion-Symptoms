{
 "cells": [
  {
   "cell_type": "code",
   "execution_count": 1,
   "metadata": {},
   "outputs": [
    {
     "name": "stdout",
     "output_type": "stream",
     "text": [
      "number of metadata 717\n"
     ]
    }
   ],
   "source": [
    "#load metadata for all (secondary) outputs available for this project\n",
    "import os\n",
    "import json\n",
    "objs = []\n",
    "for entry in os.scandir(\"input/meta\"):\n",
    "    with open(entry.path, \"r\") as f:\n",
    "        obj = json.loads(f.read())\n",
    "\n",
    "    if obj[\"removed\"] != True:\n",
    "        objs.append(obj)\n",
    "\n",
    "print(\"number of metadata\", len(objs))\n",
    "\n",
    "#load participants columns/info (for phenotype - if you have it defined for your project)\n",
    "with open(\"input/participants.json\") as f:\n",
    "    participants = json.load(f)\n",
    "    \n",
    "with open(\"input/participants_column.json\") as f:\n",
    "    participants_column = json.load(f)"
   ]
  },
  {
   "cell_type": "code",
   "execution_count": 2,
   "metadata": {},
   "outputs": [],
   "source": [
    "# EDIT ME\n",
    "# Now you need to pick and choose which objects # you want to load \n",
    "# into this notebook to perform your data analysis.\n",
    "#\n",
    "# Itereate through the objs list from above step and pick the objects you need.\n",
    "# The actual file path for each object is stored in obj[\"_secondaryPath\"]\n",
    "\n",
    "# import any library you need to load data (for csv, pandas works nicely)\n",
    "import pandas\n",
    "import numpy as np\n",
    "# you probably need to create multiple lists to load various things\n",
    "myCSVs = {}\n",
    "sub_list = []\n",
    "for obj in objs:\n",
    "    #put whatever the condition you'd like to use\n",
    "    #if you don't know which field/keys to use, just\n",
    "    #open up one of the .json under input/meta directory\n",
    "    #and see what key/values exists\n",
    "    if obj[\"datatype\"][\"name\"] == \"neuro/parc-stats\": \n",
    "        subject = obj[\"meta\"][\"subject\"]\n",
    "        csvPath = \"input/\"+obj[\"_secondaryPath\"]+\"/parc-stats/parc_nodes.csv\"\n",
    "        myCSVs[subject] = pandas.read_csv(csvPath)\n",
    "        sub_list.append(subject)"
   ]
  },
  {
   "cell_type": "code",
   "execution_count": 3,
   "metadata": {},
   "outputs": [],
   "source": [
    "import pandas as pd\n",
    "rtp = pd.read_csv(\"rtp_acute_cases.csv\",index_col=0)"
   ]
  },
  {
   "cell_type": "code",
   "execution_count": 4,
   "metadata": {},
   "outputs": [],
   "source": [
    "#IDs of all the subcortical regions\n",
    "left_parc_IDs = [8, 10, 11, 12, 13, 17, 18]\n",
    "right_parc_IDs = [47, 49, 50, 51, 52, 53, 54]"
   ]
  },
  {
   "cell_type": "code",
   "execution_count": 5,
   "metadata": {},
   "outputs": [],
   "source": [
    "metrics = ['fa','md','isovf','ndi','odi']\n",
    "left_sc_means = np.zeros((len(sub_list), len(left_parc_IDs), len(metrics)))\n",
    "right_sc_means = np.zeros((len(sub_list), len(right_parc_IDs), len(metrics)))\n",
    "stem_means = np.zeros((len(sub_list), len(metrics)))"
   ]
  },
  {
   "cell_type": "code",
   "execution_count": 6,
   "metadata": {},
   "outputs": [],
   "source": [
    "for s, sub in enumerate(sub_list):\n",
    "    df = myCSVs[sub]\n",
    "    #select some rows\n",
    "    df_sc_L = df[df['parcID'].isin(left_parc_IDs)]\n",
    "    df_sc_R = df[df['parcID'].isin(right_parc_IDs)]\n",
    "    #select some columns\n",
    "    L = df_sc_L[metrics]\n",
    "    R = df_sc_R[metrics]\n",
    "    \n",
    "    left_sc_means[s,:,:] = L\n",
    "    right_sc_means[s,:,:] = R\n",
    "\n",
    "    #Brain-Stem\n",
    "    stem = df.query('structureID == \"Brain-Stem\"')[metrics]\n",
    "    stem_means[s,:] = stem.iloc[0]"
   ]
  },
  {
   "cell_type": "code",
   "execution_count": 7,
   "metadata": {},
   "outputs": [
    {
     "name": "stdout",
     "output_type": "stream",
     "text": [
      "Requirement already satisfied: scipy==1.7.0 in /opt/conda/lib/python3.7/site-packages (1.7.0)\n",
      "Requirement already satisfied: numpy<1.23.0,>=1.16.5 in /opt/conda/lib/python3.7/site-packages (from scipy==1.7.0) (1.18.4)\n"
     ]
    }
   ],
   "source": [
    "!pip install scipy==1.7.0 "
   ]
  },
  {
   "cell_type": "code",
   "execution_count": 8,
   "metadata": {},
   "outputs": [],
   "source": [
    "import matplotlib.pyplot as plt\n",
    "import scipy.stats\n",
    "\n",
    "#plot left and right sc means of subjects with an actual value of rtp\n",
    "#(remember: 4 subjects of the late recovery group do not have it)\n",
    "rtp_days = []\n",
    "for s, sub in enumerate(sub_list):\n",
    "    if np.isnan(rtp.loc[int(sub),\"TIME_TORTP_DAYS\"]) == False:\n",
    "        rtp_days.append(rtp.loc[int(sub),\"TIME_TORTP_DAYS\"])"
   ]
  },
  {
   "cell_type": "code",
   "execution_count": 9,
   "metadata": {},
   "outputs": [],
   "source": [
    "#retrive groups\n",
    "groups = []\n",
    "for s, sub in enumerate(sub_list):\n",
    "    if rtp.loc[int(sub), 'rtpLabel'] == 0:\n",
    "        groups.append(\"early\")\n",
    "    elif rtp.loc[int(sub), 'rtpLabel'] == 1:\n",
    "        groups.append(\"late\")    \n",
    "        \n",
    "means_fa = []\n",
    "means_md = []\n",
    "for s, sub in enumerate(sub_list):\n",
    "    if np.isnan(rtp.loc[int(sub), 'rtpLabel']) == False:\n",
    "        means_fa.append(np.mean(left_sc_means, axis=1)[s,0])  \n",
    "        means_md.append(np.mean(left_sc_means, axis=1)[s,1])       \n",
    "for s, sub in enumerate(sub_list):\n",
    "    if np.isnan(rtp.loc[int(sub), 'rtpLabel']) == False:\n",
    "        means_fa.append(np.mean(left_sc_means, axis=1)[s,0])  \n",
    "        means_md.append(np.mean(left_sc_means, axis=1)[s,1])    \n",
    "        \n",
    "sc_means = np.vstack((np.mean(left_sc_means[:,:,0:2], axis=1),np.mean(right_sc_means[:,:,0:2], axis=1)))        "
   ]
  },
  {
   "cell_type": "code",
   "execution_count": 10,
   "metadata": {},
   "outputs": [
    {
     "name": "stdout",
     "output_type": "stream",
     "text": [
      "Requirement already satisfied: statannot in /opt/conda/lib/python3.7/site-packages (0.2.3)\n"
     ]
    },
    {
     "name": "stderr",
     "output_type": "stream",
     "text": [
      "/opt/conda/lib/python3.7/site-packages/ipykernel_launcher.py:24: MatplotlibDeprecationWarning: Adding an axes using the same arguments as a previous axes currently reuses the earlier instance.  In a future version, a new instance will always be created and returned.  Meanwhile, this warning can be suppressed, and the future behavior ensured, by passing a unique label to each axes instance.\n",
      "/opt/conda/lib/python3.7/site-packages/ipykernel_launcher.py:33: MatplotlibDeprecationWarning: Adding an axes using the same arguments as a previous axes currently reuses the earlier instance.  In a future version, a new instance will always be created and returned.  Meanwhile, this warning can be suppressed, and the future behavior ensured, by passing a unique label to each axes instance.\n"
     ]
    },
    {
     "name": "stdout",
     "output_type": "stream",
     "text": [
      "r=-0.03, p=0.3694\n",
      "p-value annotation legend:\n",
      "ns: 5.00e-02 < p <= 1.00e+00\n",
      "*: 1.00e-02 < p <= 5.00e-02\n",
      "**: 1.00e-03 < p <= 1.00e-02\n",
      "***: 1.00e-04 < p <= 1.00e-03\n",
      "****: p <= 1.00e-04\n",
      "\n",
      "early v.s. late: t-test independent samples with Bonferroni correction, P_val=2.824e-02 stat=2.226e+00\n"
     ]
    },
    {
     "name": "stderr",
     "output_type": "stream",
     "text": [
      "/opt/conda/lib/python3.7/site-packages/ipykernel_launcher.py:24: MatplotlibDeprecationWarning: Adding an axes using the same arguments as a previous axes currently reuses the earlier instance.  In a future version, a new instance will always be created and returned.  Meanwhile, this warning can be suppressed, and the future behavior ensured, by passing a unique label to each axes instance.\n",
      "/opt/conda/lib/python3.7/site-packages/ipykernel_launcher.py:33: MatplotlibDeprecationWarning: Adding an axes using the same arguments as a previous axes currently reuses the earlier instance.  In a future version, a new instance will always be created and returned.  Meanwhile, this warning can be suppressed, and the future behavior ensured, by passing a unique label to each axes instance.\n"
     ]
    },
    {
     "name": "stdout",
     "output_type": "stream",
     "text": [
      "r=-0.12, p=0.8652\n",
      "p-value annotation legend:\n",
      "ns: 5.00e-02 < p <= 1.00e+00\n",
      "*: 1.00e-02 < p <= 5.00e-02\n",
      "**: 1.00e-03 < p <= 1.00e-02\n",
      "***: 1.00e-04 < p <= 1.00e-03\n",
      "****: p <= 1.00e-04\n",
      "\n",
      "early v.s. late: t-test independent samples with Bonferroni correction, P_val=1.478e-03 stat=3.269e+00\n"
     ]
    },
    {
     "data": {
      "image/png": "[encoded data removed]",
      "text/plain": [
       "<Figure size 504x504 with 4 Axes>"
      ]
     },
     "metadata": {
      "needs_background": "light"
     },
     "output_type": "display_data"
    }
   ],
   "source": [
    "# plot FA and MD\n",
    "import seaborn as sns\n",
    "!pip install statannot\n",
    "from statannot import add_stat_annotation\n",
    "plt.rcParams['svg.fonttype'] = 'none'\n",
    "\n",
    "metrics = ['FA','MD']\n",
    "rtp_days_twice = np.hstack((rtp_days, rtp_days))\n",
    "group_twice = np.hstack((groups, groups))\n",
    "N = len(sub_list)\n",
    "\n",
    "fig=plt.figure(figsize=(7,7))\n",
    "\n",
    "#left+right    \n",
    "for m, metric in enumerate(metrics):\n",
    "    sc_means_tmp = []\n",
    "    ax=plt.subplot(len(metrics),2,2*m+1)\n",
    "    for s, sub in enumerate(sub_list):\n",
    "        if rtp.loc[int(sub), 'rtpLabel'] == 0:\n",
    "            plt.scatter(rtp.loc[int(sub),\"TIME_TORTP_DAYS\"],sc_means[s,m], color='#1f77b4', alpha=0.6)\n",
    "            sc_means_tmp.append(sc_means[s,m])\n",
    "        elif rtp.loc[int(sub), 'rtpLabel'] == 1:\n",
    "            if np.isnan(rtp.loc[int(sub),\"TIME_TORTP_DAYS\"]) == False:\n",
    "                plt.subplot(len(metrics),2,2*m+1)\n",
    "                plt.scatter(rtp.loc[int(sub),\"TIME_TORTP_DAYS\"],sc_means[s,m], color='#ff7f0e', alpha=0.6)\n",
    "                sc_means_tmp.append(sc_means[s,m])\n",
    "    for s, sub in enumerate(sub_list):\n",
    "        if rtp.loc[int(sub), 'rtpLabel'] == 0:\n",
    "            plt.scatter(rtp.loc[int(sub),\"TIME_TORTP_DAYS\"],sc_means[N+s,m], color='#1f77b4', alpha=0.6)\n",
    "            sc_means_tmp.append(sc_means[N+s,m])\n",
    "        elif rtp.loc[int(sub), 'rtpLabel'] == 1:\n",
    "            if np.isnan(rtp.loc[int(sub),\"TIME_TORTP_DAYS\"]) == False:\n",
    "                plt.subplot(len(metrics),2,2*m+1)\n",
    "                plt.scatter(rtp.loc[int(sub),\"TIME_TORTP_DAYS\"],sc_means[N+s,m], color='#ff7f0e', alpha=0.6)\n",
    "                sc_means_tmp.append(sc_means[N+s,m]) \n",
    "    if metric == 'FA':\n",
    "        sl, inter, r_val, p_val, std_err = scipy.stats.linregress(rtp_days_twice, sc_means_tmp, alternative='less')\n",
    "    elif metric == 'MD':\n",
    "        sl, inter, r_val, p_val, std_err = scipy.stats.linregress(rtp_days_twice, sc_means_tmp, alternative='greater')\n",
    "    print(\"r=%.02f, p=%.04f\" %(r_val,p_val)) \n",
    "    plt.plot(np.sort(rtp_days_twice), inter+sl*np.sort(rtp_days_twice), c='k', linestyle='-', linewidth=1)\n",
    "    plt.ylim([0.2,1])\n",
    "    plt.ylabel('%s' %metric)\n",
    "    plt.title(\"Subcortical Nuclei\")\n",
    "    plt.xlabel('Return To Play (days)')\n",
    "    fig.subplots_adjust(hspace=0.4)\n",
    "    fig.subplots_adjust(wspace=0.4)\n",
    "    \n",
    "    #removing top and right borders\n",
    "    ax.spines['top'].set_visible(False)\n",
    "    ax.spines['right'].set_visible(False)\n",
    "    ax.spines['bottom'].set_position((\"outward\", 10))\n",
    "    ax.spines['left'].set_position((\"outward\", 10))\n",
    "    if metric == 'FA':\n",
    "        plt.ylim([0.2,0.3])\n",
    "        plt.yticks([0.2,0.25,0.3])\n",
    "    elif metric == 'MD':\n",
    "        plt.ylim([0.8,1.2])\n",
    "        plt.yticks([0.8,1,1.2])\n",
    "    plt.xlim([10,90])\n",
    "    plt.xticks([0,28,90])\n",
    "    \n",
    "    #add text\n",
    "    ax.text(1, 0.12, \"r = %.2f\\np = %.4f\" %(r_val,p_val), ha=\"right\", va=\"top\", transform=ax.transAxes, fontsize=10)\n",
    "    \n",
    "    plt.subplot(len(metrics),2,2*m+2)\n",
    "    if metric == 'FA':\n",
    "        data = {'FA': means_fa, 'group': group_twice}\n",
    "        plt.ylim([0.2,0.3])\n",
    "        plt.yticks([0.2,0.25,0.3])\n",
    "    elif metric == 'MD':\n",
    "        data = {'MD': means_md, 'group': group_twice}\n",
    "        plt.ylim([0.8,1.2])\n",
    "        plt.yticks([0.8,1,1.2])\n",
    "    df = pd.DataFrame(data)\n",
    "    ax = sns.boxplot(data=df, x='group', y=metric, palette=['#1f77b4','#ff7f0e'], width=0.5, saturation=0.9)\n",
    "    add_stat_annotation(ax, data=df, x='group', y=metric, test='t-test_ind',\n",
    "                    box_pairs=[(\"early\", \"late\")], text_format='star', loc='inside', verbose=2)\n",
    "    plt.setp(ax.collections, alpha=0.8)\n",
    "    \n",
    "    #removing top and right borders\n",
    "    ax.spines['top'].set_visible(False)\n",
    "    ax.spines['right'].set_visible(False)\n",
    "    ax.spines['bottom'].set_position((\"outward\", 10))\n",
    "    ax.spines['left'].set_position((\"outward\", 10))\n",
    "\n",
    "fig.subplots_adjust(wspace=0.7)\n",
    "fig.subplots_adjust(hspace=0.7)\n",
    "plt.savefig('boxplot_fa_md_orange_poster_sc.svg', bbox_inches = \"tight\")\n",
    "plt.show()"
   ]
  }
 ],
 "metadata": {
  "kernelspec": {
   "display_name": "Python 3",
   "language": "python",
   "name": "python3"
  },
  "language_info": {
   "codemirror_mode": {
    "name": "ipython",
    "version": 3
   },
   "file_extension": ".py",
   "mimetype": "text/x-python",
   "name": "python",
   "nbconvert_exporter": "python",
   "pygments_lexer": "ipython3",
   "version": "3.7.10"
  }
 },
 "nbformat": 4,
 "nbformat_minor": 4
}
