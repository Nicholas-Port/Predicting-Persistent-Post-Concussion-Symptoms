{
 "cells": [
  {
   "cell_type": "code",
   "execution_count": 1,
   "metadata": {},
   "outputs": [
    {
     "name": "stdout",
     "output_type": "stream",
     "text": [
      "number of metadata 717\n"
     ]
    }
   ],
   "source": [
    "#load metadata for all (secondary) outputs available for this project\n",
    "import os\n",
    "import json\n",
    "objs = []\n",
    "for entry in os.scandir(\"input/meta\"):\n",
    "    with open(entry.path, \"r\") as f:\n",
    "        obj = json.loads(f.read())\n",
    "\n",
    "    if obj[\"removed\"] != True:\n",
    "        objs.append(obj)\n",
    "\n",
    "print(\"number of metadata\", len(objs))\n",
    "\n",
    "#load participants columns/info (for phenotype - if you have it defined for your project)\n",
    "with open(\"input/participants.json\") as f:\n",
    "    participants = json.load(f)\n",
    "    \n",
    "with open(\"input/participants_column.json\") as f:\n",
    "    participants_column = json.load(f)"
   ]
  },
  {
   "cell_type": "code",
   "execution_count": 2,
   "metadata": {},
   "outputs": [],
   "source": [
    "# EDIT ME\n",
    "# Now you need to pick and choose which objects # you want to load \n",
    "# into this notebook to perform your data analysis.\n",
    "#\n",
    "# Itereate through the objs list from above step and pick the objects you need.\n",
    "# The actual file path for each object is stored in obj[\"_secondaryPath\"]\n",
    "\n",
    "# import any library you need to load data (for csv, pandas works nicely)\n",
    "import pandas\n",
    "import numpy as np\n",
    "# you probably need to create multiple lists to load various things\n",
    "myCSVs = {}\n",
    "sub_list = []\n",
    "for obj in objs:\n",
    "    #put whatever the condition you'd like to use\n",
    "    #if you don't know which field/keys to use, just\n",
    "    #open up one of the .json under input/meta directory\n",
    "    #and see what key/values exists\n",
    "    if obj[\"datatype\"][\"name\"] == \"neuro/parc-stats\": \n",
    "        subject = obj[\"meta\"][\"subject\"]\n",
    "        csvPath = \"input/\"+obj[\"_secondaryPath\"]+\"/parc-stats/parc_nodes.csv\"\n",
    "        myCSVs[subject] = pandas.read_csv(csvPath)\n",
    "        sub_list.append(subject)"
   ]
  },
  {
   "cell_type": "code",
   "execution_count": 3,
   "metadata": {},
   "outputs": [],
   "source": [
    "import pandas as pd\n",
    "rtp = pd.read_csv(\"rtp_acute_cases.csv\",index_col=0)"
   ]
  },
  {
   "cell_type": "code",
   "execution_count": 4,
   "metadata": {},
   "outputs": [
    {
     "data": {
      "text/plain": [
       "['CC_Posterior',\n",
       " 'CC_Mid_Posterior',\n",
       " 'CC_Central',\n",
       " 'CC_Mid_Anterior',\n",
       " 'CC_Anterior']"
      ]
     },
     "execution_count": 4,
     "metadata": {},
     "output_type": "execute_result"
    }
   ],
   "source": [
    "#IDs of all the cc parts\n",
    "left_parc_IDs = [251, 252, 253, 254, 255]\n",
    "\n",
    "#related StuctureIDs\n",
    "df_ex = myCSVs[sub_list[0]]\n",
    "left_str_IDs = df_ex[df_ex['parcID'].isin(left_parc_IDs)]['structureID']\n",
    "left_str_IDs = left_str_IDs.tolist()\n",
    "left_str_IDs"
   ]
  },
  {
   "cell_type": "code",
   "execution_count": 5,
   "metadata": {},
   "outputs": [],
   "source": [
    "metrics = ['fa']\n",
    "left_sc_means = np.zeros((len(sub_list), len(left_parc_IDs), len(metrics)))"
   ]
  },
  {
   "cell_type": "code",
   "execution_count": 6,
   "metadata": {},
   "outputs": [],
   "source": [
    "for s, sub in enumerate(sub_list):\n",
    "    df = myCSVs[sub]\n",
    "    #select some rows\n",
    "    df_sc_L = df[df['parcID'].isin(left_parc_IDs)]\n",
    "    #select some columns\n",
    "    L = df_sc_L[metrics]    \n",
    "    left_sc_means[s,:,:] = L"
   ]
  },
  {
   "cell_type": "code",
   "execution_count": 7,
   "metadata": {},
   "outputs": [
    {
     "name": "stdout",
     "output_type": "stream",
     "text": [
      "Requirement already satisfied: scipy==1.7.0 in /opt/conda/lib/python3.7/site-packages (1.7.0)\n",
      "Requirement already satisfied: numpy<1.23.0,>=1.16.5 in /opt/conda/lib/python3.7/site-packages (from scipy==1.7.0) (1.18.4)\n"
     ]
    }
   ],
   "source": [
    "!pip install scipy==1.7.0"
   ]
  },
  {
   "cell_type": "code",
   "execution_count": 8,
   "metadata": {},
   "outputs": [],
   "source": [
    "import scipy.stats\n",
    "\n",
    "#plot individual cc of subjects with an actual value of rtp\n",
    "#(remember: 4 subjects of the late recovery group do not have it)\n",
    "rtp_days = []\n",
    "for s, sub in enumerate(sub_list):\n",
    "    if np.isnan(rtp.loc[int(sub),\"TIME_TORTP_DAYS\"]) == False:\n",
    "        rtp_days.append(rtp.loc[int(sub),\"TIME_TORTP_DAYS\"])\n",
    "    \n",
    "#cc\n",
    "r_list_fa = []\n",
    "p_list_fa = []\n",
    "for r, region in enumerate(left_parc_IDs):\n",
    "    for m, metric in enumerate(metrics):\n",
    "        left_sc_means_tmp = []\n",
    "        for s, sub in enumerate(sub_list):\n",
    "            if rtp.loc[int(sub), 'rtpLabel'] == 0:\n",
    "                left_sc_means_tmp.append(left_sc_means[s,r,m])\n",
    "            elif rtp.loc[int(sub), 'rtpLabel'] == 1:\n",
    "                if np.isnan(rtp.loc[int(sub),\"TIME_TORTP_DAYS\"]) == False:\n",
    "                    left_sc_means_tmp.append(left_sc_means[s,r,m])\n",
    "        sl, inter, r_val, p_val, std_err = scipy.stats.linregress(rtp_days, left_sc_means_tmp, alternative='less')\n",
    "        r_list_fa.append(r_val)\n",
    "        p_list_fa.append(p_val)"
   ]
  },
  {
   "cell_type": "code",
   "execution_count": 9,
   "metadata": {},
   "outputs": [
    {
     "name": "stdout",
     "output_type": "stream",
     "text": [
      "CC_Posterior: r=-0.11, p_fdr=0.22370 (ns)\n",
      "CC_Mid_Posterior: r=-0.37, p_fdr=0.00108 **\n",
      "CC_Central: r=-0.20, p_fdr=0.06732 (ns)\n",
      "CC_Mid_Anterior: r=-0.28, p_fdr=0.01573 *\n",
      "CC_Anterior: r=-0.29, p_fdr=0.00983 **\n"
     ]
    }
   ],
   "source": [
    "#correction with FDR for FA\n",
    "ranking = np.argsort(np.argsort(p_list_fa))\n",
    "p_fdr_corrected = p_list_fa * (ranking+1) / len(left_str_IDs)\n",
    "for p, p_fdr in enumerate(p_fdr_corrected):\n",
    "    if p_fdr < 0.001:\n",
    "        sign = '***'\n",
    "    elif p_fdr > 0.001 and p_fdr < 0.01:\n",
    "        sign = '**'\n",
    "    elif p_fdr > 0.01 and p_fdr < 0.05:\n",
    "        sign = '*'\n",
    "    else:\n",
    "        sign = '(ns)'\n",
    "    print(\"%s: r=%.02f, p_fdr=%.05f %s\" %(left_str_IDs[p], r_list_fa[p], p_fdr, sign)) "
   ]
  },
  {
   "cell_type": "code",
   "execution_count": 10,
   "metadata": {},
   "outputs": [
    {
     "data": {
      "text/plain": [
       "-0.25190723094346207"
      ]
     },
     "execution_count": 10,
     "metadata": {},
     "output_type": "execute_result"
    }
   ],
   "source": [
    "#aggregated results for R in FA\n",
    "np.mean(r_list_fa)"
   ]
  }
 ],
 "metadata": {
  "kernelspec": {
   "display_name": "Python 3",
   "language": "python",
   "name": "python3"
  },
  "language_info": {
   "codemirror_mode": {
    "name": "ipython",
    "version": 3
   },
   "file_extension": ".py",
   "mimetype": "text/x-python",
   "name": "python",
   "nbconvert_exporter": "python",
   "pygments_lexer": "ipython3",
   "version": "3.7.10"
  }
 },
 "nbformat": 4,
 "nbformat_minor": 4
}
